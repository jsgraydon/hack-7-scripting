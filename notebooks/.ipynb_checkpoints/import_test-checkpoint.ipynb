{
 "cells": [
  {
   "cell_type": "markdown",
   "id": "26065ee2-9b25-46ae-b13c-9e4c5223da0e",
   "metadata": {},
   "source": [
    "# Tutorial 7.3 – importing"
   ]
  },
  {
   "cell_type": "code",
   "execution_count": 2,
   "id": "3781ea27-bb61-4607-b0ad-6183a55861b4",
   "metadata": {},
   "outputs": [],
   "source": [
    "import sys\n",
    "\n",
    "sys.path.append(\"../\")"
   ]
  },
  {
   "cell_type": "markdown",
   "id": "f22a5701-6012-4b63-8600-3afd7541f3f3",
   "metadata": {},
   "source": [
    "### Tested import methods"
   ]
  },
  {
   "cell_type": "code",
   "execution_count": 13,
   "id": "24bbf004-8676-4c7e-95bd-58ed3528d22d",
   "metadata": {},
   "outputs": [],
   "source": [
    "#import mypackage.mymodule\n",
    "#mypackage.mymodule.magic_eight_ball()\n",
    "\n",
    "#from mypackage import mymodule\n",
    "#mymodule.magic_eight_ball()\n",
    "\n",
    "#from mypackage.mymodule import magic_eight_ball\n",
    "#magic_eight_ball()\n"
   ]
  },
  {
   "cell_type": "markdown",
   "id": "e095efca-6864-4393-b58b-5675d7b20211",
   "metadata": {},
   "source": [
    "### Final import method tested\n",
    "This method uses the `__init__.py` script that was created in the last step of the tutorial."
   ]
  },
  {
   "cell_type": "markdown",
   "id": "9d067211-d820-4a84-9620-425d5c075c95",
   "metadata": {},
   "source": [
    "### Import package and test module/function"
   ]
  },
  {
   "cell_type": "code",
   "execution_count": 14,
   "id": "529d77d7-a3ad-4ace-b573-f904681c9ef7",
   "metadata": {},
   "outputs": [
    {
     "data": {
      "text/plain": [
       "'Concentrate and ask again'"
      ]
     },
     "execution_count": 14,
     "metadata": {},
     "output_type": "execute_result"
    }
   ],
   "source": [
    "import mypackage\n",
    "mypackage.mymodule.magic_eight_ball()"
   ]
  },
  {
   "cell_type": "code",
   "execution_count": 15,
   "id": "1c85e74b-0dc8-4618-838e-01916caa9acf",
   "metadata": {},
   "outputs": [
    {
     "data": {
      "text/plain": [
       "\u001b[0;31mType:\u001b[0m        module\n",
       "\u001b[0;31mString form:\u001b[0m <module 'mypackage' from '/home/jsgraydon/hacks/hack-7-scripting/notebooks/../mypackage/__init__.py'>\n",
       "\u001b[0;31mFile:\u001b[0m        ~/hacks/hack-7-scripting/mypackage/__init__.py\n",
       "\u001b[0;31mDocstring:\u001b[0m   THe mypackage package is used to learn about package filestructure."
      ]
     },
     "metadata": {},
     "output_type": "display_data"
    }
   ],
   "source": [
    "mypackage?"
   ]
  },
  {
   "cell_type": "markdown",
   "id": "a4f298fa-a96c-4ebe-b9a0-ada141e3226f",
   "metadata": {},
   "source": [
    "### Testing"
   ]
  },
  {
   "cell_type": "code",
   "execution_count": 16,
   "id": "b6a2cf58-0fec-4167-ac2d-712178519baf",
   "metadata": {},
   "outputs": [
    {
     "name": "stdout",
     "output_type": "stream",
     "text": [
      "Result 1: Most likely\n",
      "Result 2: Concentrate and ask again\n",
      "Result 3: Don't count on it\n",
      "Result 4: Don't count on it\n",
      "Result 5: Signs point to yes\n",
      "Result 6: My sources say no\n",
      "Result 7: Yes - definitely\n",
      "Result 8: Signs point to yes\n",
      "Result 9: My reply is no\n",
      "Result 10: Yes - definitely\n",
      "Result 11: Without a doubt\n",
      "Result 12: Yes - definitely\n",
      "Result 13: Cannot predict now\n",
      "Result 14: Concentrate and ask again\n",
      "Result 15: Yes\n",
      "Result 16: Don't count on it\n",
      "Result 17: Yes - definitely\n",
      "Result 18: It is certain\n",
      "Result 19: Ask again later\n",
      "Result 20: My reply is no\n"
     ]
    }
   ],
   "source": [
    "for i in range(20):\n",
    "    print(f\"Result {i+1}: {mypackage.mymodule.magic_eight_ball()}\")"
   ]
  }
 ],
 "metadata": {
  "kernelspec": {
   "display_name": "Python 3 (ipykernel)",
   "language": "python",
   "name": "python3"
  },
  "language_info": {
   "codemirror_mode": {
    "name": "ipython",
    "version": 3
   },
   "file_extension": ".py",
   "mimetype": "text/x-python",
   "name": "python",
   "nbconvert_exporter": "python",
   "pygments_lexer": "ipython3",
   "version": "3.12.2"
  }
 },
 "nbformat": 4,
 "nbformat_minor": 5
}
